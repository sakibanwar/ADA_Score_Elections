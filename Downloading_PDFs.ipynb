{
 "cells": [
  {
   "cell_type": "code",
   "execution_count": null,
   "id": "6edbe4c1",
   "metadata": {},
   "outputs": [],
   "source": [
    "import requests\n",
    "import os\n",
    "\n",
    "base_url = \"https://adaction.org/wp-content/uploads/\"\n",
    "years_first_part = range(2017, 2023)  # From 2017 to 2022\n",
    "months = range(1, 13)  # From 1 to 12\n",
    "years_last_part = range(2010, 2023)  # From 2010 to 2022\n",
    "\n",
    "# Create a directory to store the downloaded PDFs\n",
    "os.makedirs(\"downloaded_pdfs\", exist_ok=True)\n",
    "\n",
    "for year1 in years_first_part:\n",
    "    for month in months:\n",
    "        for year2 in years_last_part:\n",
    "            pdf_url = f\"{base_url}/{year1}/{month:02}/{year2}.pdf\"\n",
    "            response = requests.get(pdf_url)\n",
    "            \n",
    "            # Check if the request was successful\n",
    "            if response.status_code == 200:\n",
    "                with open(f\"downloaded_pdfs/{year2}.pdf\", \"wb\") as pdf_file:\n",
    "                    pdf_file.write(response.content)\n",
    "                print(f\"Downloaded {year2}.pdf successfully!\")\n",
    "            else:\n",
    "                print(f\"Failed to download {year2}.pdf from {pdf_url}. Status code: {response.status_code}\")\n",
    "\n",
    "print(\"Download process completed!\")"
   ]
  }
 ],
 "metadata": {
  "kernelspec": {
   "display_name": "Python 3 (ipykernel)",
   "language": "python",
   "name": "python3"
  },
  "language_info": {
   "codemirror_mode": {
    "name": "ipython",
    "version": 3
   },
   "file_extension": ".py",
   "mimetype": "text/x-python",
   "name": "python",
   "nbconvert_exporter": "python",
   "pygments_lexer": "ipython3",
   "version": "3.8.5"
  }
 },
 "nbformat": 4,
 "nbformat_minor": 5
}
